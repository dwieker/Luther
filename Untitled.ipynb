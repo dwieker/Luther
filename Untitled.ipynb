{
 "cells": [
  {
   "cell_type": "code",
   "execution_count": 1,
   "metadata": {
    "collapsed": true
   },
   "outputs": [],
   "source": [
    "from __future__ import print_function"
   ]
  },
  {
   "cell_type": "code",
   "execution_count": 59,
   "metadata": {
    "collapsed": false
   },
   "outputs": [
    {
     "name": "stdout",
     "output_type": "stream",
     "text": [
      "What you want? 'eee'\n",
      " --------------     --------------- --------------- ---------------\n",
      "   -----------------  ---------------------------------------------\n",
      "   ---         -----  ------------------\n",
      "   ---         -----  ------------------\n",
      "   ---         -----  ------------------\n",
      "   ---         ----   ---------------------------------------------\n",
      "   -------------      ---------------------------------------------\n",
      "   ---------          ------         ------         ------         \n",
      "   ---                ------         ------         ------         \n",
      "   ---                ------         ------         ------         \n",
      "   ---                ---------------------------------------------\n",
      "   ---                ---------------------------------------------\n",
      "                      \n",
      "\n"
     ]
    }
   ],
   "source": [
    "def d():\n",
    "    print(\" ---------------\",\"\\n\",\n",
    "          \"----------------\",\"\\n\",\n",
    "          \"---         -----\",\"\\n\",\n",
    "          \"---         -----\",\"\\n\",\n",
    "          \"---         -----\",\"\\n\",\n",
    "          \"---         -----\",\"\\n\",\n",
    "          \"---         -----\",\"\\n\",\n",
    "          \"---         -----\",\"\\n\",\n",
    "        \"---         -----\",\"\\n\",\n",
    "          \"---         ----\",\"\\n\",\n",
    "        \"---         ---\",\"\\n\",\n",
    "          \"--------------\",\"\\n\")\n",
    "\n",
    "def o():\n",
    "    print(\"   --------\",\"\\n\", \n",
    "          \"------------\",\"\\n\",\n",
    "          \"----    ----\",\"\\n\",\n",
    "          \"----    ----\",\"\\n\",\n",
    "            \"----    ----\",\"\\n\",\n",
    "          \"----    ----\",\"\\n\",\n",
    "        \"----    ----\",\"\\n\",\n",
    "          \"----    ----\",\"\\n\",\n",
    "        \"----    ----\",\"\\n\",\n",
    "          \"----    ----\",\"\\n\",\n",
    "        \"------------\",\"\\n\",\n",
    "          \"  --------\",\"\\n\")\n",
    "\n",
    "def p():\n",
    "    return(\" --------------\\n\"\n",
    "          \"-----------------\\n\"\n",
    "          \"---         -----\\n\"\n",
    "          \"---         -----\\n\"\n",
    "            \"---         -----\\n\"\n",
    "          \"---         ----\\n\"\n",
    "        \"-------------\\n\"\n",
    "          \"---------\\n\"\n",
    "        \"---\\n\"\n",
    "          \"---\\n\"\n",
    "        \"---\\n\"\n",
    "          \"---\\n\")\n",
    "\n",
    "def e():\n",
    "    return(\" ---------------\\n\" \n",
    "          \"---------------\\n\"\n",
    "          \"------\\n\"\n",
    "          \"------\\n\"\n",
    "            \"------\\n\"\n",
    "          \"---------------\\n\"\n",
    "        \"---------------\\n\"\n",
    "          \"------         \\n\"\n",
    "        \"------         \\n\"\n",
    "          \"------         \\n\"\n",
    "        \"---------------\\n\"\n",
    "          \"---------------\\n\")\n",
    "\n",
    "\n",
    "def combine(start, end):\n",
    "    end =  map(lambda s: s + \"\\n\", end.split(\"\\n\"))\n",
    "    start = start.split(\"\\n\")\n",
    "    return \" \".join([a + (19 - len(a))*\" \" + b for a,b in zip(start, end)])\n",
    "\n",
    "def main():\n",
    "    get = input(\"What you want? \")\n",
    "    get = list(get)\n",
    "    \n",
    "    s = p()\n",
    "    for i in get:\n",
    "        if i is \"d\":\n",
    "            s = combine(s, d())\n",
    "        elif i is \"o\":\n",
    "            s = combine(s,o())\n",
    "        elif i is \"p\":\n",
    "            s = combine(s, p())\n",
    "        elif i is \"e\":\n",
    "            s = combine(s, e())\n",
    "            \n",
    "        else: #handles exception\n",
    "            return\n",
    "    print(s)\n",
    "main()"
   ]
  },
  {
   "cell_type": "code",
   "execution_count": 29,
   "metadata": {
    "collapsed": false
   },
   "outputs": [],
   "source": [
    "end =  map(lambda s: s + \"\\n\", p().split(\"\\n\"))\n",
    "start = p().split(\"\\n\")"
   ]
  },
  {
   "cell_type": "code",
   "execution_count": 41,
   "metadata": {
    "collapsed": false
   },
   "outputs": [
    {
     "name": "stdout",
     "output_type": "stream",
     "text": [
      " --------------     --------------\n",
      " -----------------  -----------------\n",
      " ---         -----  ---         -----\n",
      " ---         -----  ---         -----\n",
      " ---         -----  ---         -----\n",
      " ---         ----   ---         ----\n",
      " -------------      -------------\n",
      " ---------          ---------\n",
      " ---                ---\n",
      " ---                ---\n",
      " ---                ---\n",
      " ---                ---\n",
      "                    \n",
      "\n"
     ]
    }
   ],
   "source": [
    "print(\" \".join([a + (19 - len(a))*\" \" + b for a,b in zip(start, end)]))"
   ]
  },
  {
   "cell_type": "code",
   "execution_count": 62,
   "metadata": {
    "collapsed": false
   },
   "outputs": [
    {
     "name": "stdout",
     "output_type": "stream",
     "text": [
      " --------------     ---------------\n",
      " -----------------  ---------------\n",
      " ---         -----  ------\n",
      " ---         -----  ------\n",
      " ---         -----  ------\n",
      " ---         ----   ---------------\n",
      " -------------      ---------------\n",
      " ---------          ------         \n",
      " ---                ------         \n",
      " ---                ------         \n",
      " ---                ---------------\n",
      " ---                ---------------\n",
      "                    \n",
      "\n"
     ]
    }
   ],
   "source": [
    "\n",
    "def combine(start, end):\n",
    "    end =  map(lambda s: s + \"\\n\", end.split(\"\\n\"))\n",
    "    start = start.split(\"\\n\")\n",
    "    return \" \".join([a + (19 - len(a))*\" \" + b for a,b in zip(start, end)])\n",
    "\n",
    "print(combine(p(),e()))"
   ]
  },
  {
   "cell_type": "code",
   "execution_count": null,
   "metadata": {
    "collapsed": true
   },
   "outputs": [],
   "source": []
  }
 ],
 "metadata": {
  "kernelspec": {
   "display_name": "Python 2",
   "language": "python",
   "name": "python2"
  },
  "language_info": {
   "codemirror_mode": {
    "name": "ipython",
    "version": 2
   },
   "file_extension": ".py",
   "mimetype": "text/x-python",
   "name": "python",
   "nbconvert_exporter": "python",
   "pygments_lexer": "ipython2",
   "version": "2.7.6"
  }
 },
 "nbformat": 4,
 "nbformat_minor": 0
}
