{
 "cells": [
  {
   "cell_type": "code",
   "execution_count": 6,
   "metadata": {
    "collapsed": true
   },
   "outputs": [],
   "source": [
    "from pytrends.pyGTrends import pyGTrends\n",
    "import time\n",
    "from random import randint\n",
    "\n",
    "google_username = \"devin.wieker\"\n",
    "google_password = \"Biochemistry\"\n",
    "path = \"GoogleTrends/\"\n",
    "\n",
    "# connect to Google\n",
    "connector = pyGTrends(google_username, google_password)"
   ]
  },
  {
   "cell_type": "code",
   "execution_count": 7,
   "metadata": {
    "collapsed": false
   },
   "outputs": [
    {
     "name": "stdout",
     "output_type": "stream",
     "text": [
      "Now downloading information for:\n",
      "http://www.google.com/trends/trendsReport?q=The%20Hateful%20Eight&hl=en-US&cmpt=q&content=1&export=1\n"
     ]
    }
   ],
   "source": [
    "movie = \"The Hateful Eight\"\n",
    "# make request\n",
    "connector.request_report(movie)\n",
    "\n",
    "# wait a random amount of time between requests to avoid bot detection\n",
    "#time.sleep(randint(5, 10))\n",
    "\n",
    "# download file\n",
    "connector.save_csv(path, movie.strip())\n"
   ]
  },
  {
   "cell_type": "code",
   "execution_count": 2,
   "metadata": {
    "collapsed": false
   },
   "outputs": [],
   "source": [
    "import pandas as pd\n",
    "\n",
    "\n",
    "dfs = pd.read_html(\"https://en.wikipedia.org/wiki/2015_in_film\")"
   ]
  },
  {
   "cell_type": "code",
   "execution_count": 3,
   "metadata": {
    "collapsed": false
   },
   "outputs": [
    {
     "data": {
      "text/html": [
       "<div>\n",
       "<table border=\"1\" class=\"dataframe\">\n",
       "  <thead>\n",
       "    <tr style=\"text-align: right;\">\n",
       "      <th></th>\n",
       "      <th>0</th>\n",
       "      <th>1</th>\n",
       "      <th>2</th>\n",
       "      <th>3</th>\n",
       "    </tr>\n",
       "  </thead>\n",
       "  <tbody>\n",
       "    <tr>\n",
       "      <th>0</th>\n",
       "      <td>Rank</td>\n",
       "      <td>Title</td>\n",
       "      <td>Distributor</td>\n",
       "      <td>Worldwide gross</td>\n",
       "    </tr>\n",
       "    <tr>\n",
       "      <th>1</th>\n",
       "      <td>1</td>\n",
       "      <td>Star Wars: The Force Awakens</td>\n",
       "      <td>Disney</td>\n",
       "      <td>$2,065,532,841</td>\n",
       "    </tr>\n",
       "    <tr>\n",
       "      <th>2</th>\n",
       "      <td>2</td>\n",
       "      <td>Jurassic World</td>\n",
       "      <td>Universal</td>\n",
       "      <td>$1,670,400,637</td>\n",
       "    </tr>\n",
       "    <tr>\n",
       "      <th>3</th>\n",
       "      <td>3</td>\n",
       "      <td>Furious 7</td>\n",
       "      <td>$1,516,045,911</td>\n",
       "      <td>NaN</td>\n",
       "    </tr>\n",
       "    <tr>\n",
       "      <th>4</th>\n",
       "      <td>4</td>\n",
       "      <td>Avengers: Age of Ultron</td>\n",
       "      <td>Disney</td>\n",
       "      <td>$1,405,413,868</td>\n",
       "    </tr>\n",
       "    <tr>\n",
       "      <th>5</th>\n",
       "      <td>5</td>\n",
       "      <td>Minions</td>\n",
       "      <td>Universal</td>\n",
       "      <td>$1,159,398,397</td>\n",
       "    </tr>\n",
       "    <tr>\n",
       "      <th>6</th>\n",
       "      <td>6</td>\n",
       "      <td>Spectre</td>\n",
       "      <td>MGM / Columbia</td>\n",
       "      <td>$880,674,175</td>\n",
       "    </tr>\n",
       "    <tr>\n",
       "      <th>7</th>\n",
       "      <td>7</td>\n",
       "      <td>Inside Out</td>\n",
       "      <td>Disney</td>\n",
       "      <td>$856,809,711</td>\n",
       "    </tr>\n",
       "    <tr>\n",
       "      <th>8</th>\n",
       "      <td>8</td>\n",
       "      <td>Mission: Impossible – Rogue Nation</td>\n",
       "      <td>Paramount</td>\n",
       "      <td>$682,330,139</td>\n",
       "    </tr>\n",
       "    <tr>\n",
       "      <th>9</th>\n",
       "      <td>9</td>\n",
       "      <td>The Hunger Games: Mockingjay – Part 2</td>\n",
       "      <td>Lionsgate</td>\n",
       "      <td>$653,428,261</td>\n",
       "    </tr>\n",
       "    <tr>\n",
       "      <th>10</th>\n",
       "      <td>10</td>\n",
       "      <td>The Martian</td>\n",
       "      <td>20th Century Fox</td>\n",
       "      <td>$630,062,825</td>\n",
       "    </tr>\n",
       "  </tbody>\n",
       "</table>\n",
       "</div>"
      ],
      "text/plain": [
       "       0                                      1                 2  \\\n",
       "0   Rank                                  Title       Distributor   \n",
       "1      1           Star Wars: The Force Awakens            Disney   \n",
       "2      2                         Jurassic World         Universal   \n",
       "3      3                              Furious 7    $1,516,045,911   \n",
       "4      4                Avengers: Age of Ultron            Disney   \n",
       "5      5                                Minions         Universal   \n",
       "6      6                                Spectre    MGM / Columbia   \n",
       "7      7                             Inside Out            Disney   \n",
       "8      8     Mission: Impossible – Rogue Nation         Paramount   \n",
       "9      9  The Hunger Games: Mockingjay – Part 2         Lionsgate   \n",
       "10    10                            The Martian  20th Century Fox   \n",
       "\n",
       "                  3  \n",
       "0   Worldwide gross  \n",
       "1    $2,065,532,841  \n",
       "2    $1,670,400,637  \n",
       "3               NaN  \n",
       "4    $1,405,413,868  \n",
       "5    $1,159,398,397  \n",
       "6      $880,674,175  \n",
       "7      $856,809,711  \n",
       "8      $682,330,139  \n",
       "9      $653,428,261  \n",
       "10     $630,062,825  "
      ]
     },
     "execution_count": 3,
     "metadata": {},
     "output_type": "execute_result"
    }
   ],
   "source": [
    "dfs[3]"
   ]
  },
  {
   "cell_type": "code",
   "execution_count": null,
   "metadata": {
    "collapsed": true
   },
   "outputs": [],
   "source": []
  }
 ],
 "metadata": {
  "kernelspec": {
   "display_name": "Python 2",
   "language": "python",
   "name": "python2"
  },
  "language_info": {
   "codemirror_mode": {
    "name": "ipython",
    "version": 2
   },
   "file_extension": ".py",
   "mimetype": "text/x-python",
   "name": "python",
   "nbconvert_exporter": "python",
   "pygments_lexer": "ipython2",
   "version": "2.7.6"
  }
 },
 "nbformat": 4,
 "nbformat_minor": 0
}
