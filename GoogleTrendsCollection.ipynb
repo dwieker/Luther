{
 "cells": [
  {
   "cell_type": "code",
   "execution_count": 6,
   "metadata": {
    "collapsed": true
   },
   "outputs": [],
   "source": [
    "from pytrends.pyGTrends import pyGTrends\n",
    "import time\n",
    "from random import randint\n",
    "\n",
    "google_username = \"devin.wieker\"\n",
    "google_password = \"Biochemistry\"\n",
    "path = \"GoogleTrends/\"\n",
    "\n",
    "# connect to Google\n",
    "connector = pyGTrends(google_username, google_password)"
   ]
  },
  {
   "cell_type": "code",
   "execution_count": 7,
   "metadata": {
    "collapsed": false
   },
   "outputs": [
    {
     "name": "stdout",
     "output_type": "stream",
     "text": [
      "Now downloading information for:\n",
      "http://www.google.com/trends/trendsReport?q=The%20Hateful%20Eight&hl=en-US&cmpt=q&content=1&export=1\n"
     ]
    }
   ],
   "source": [
    "movie = \"The Hateful Eight\"\n",
    "# make request\n",
    "connector.request_report(movie)\n",
    "\n",
    "# wait a random amount of time between requests to avoid bot detection\n",
    "#time.sleep(randint(5, 10))\n",
    "\n",
    "# download file\n",
    "connector.save_csv(path, movie.strip())\n"
   ]
  },
  {
   "cell_type": "code",
   "execution_count": null,
   "metadata": {
    "collapsed": true
   },
   "outputs": [],
   "source": []
  }
 ],
 "metadata": {
  "kernelspec": {
   "display_name": "Python 2",
   "language": "python",
   "name": "python2"
  },
  "language_info": {
   "codemirror_mode": {
    "name": "ipython",
    "version": 2
   },
   "file_extension": ".py",
   "mimetype": "text/x-python",
   "name": "python",
   "nbconvert_exporter": "python",
   "pygments_lexer": "ipython2",
   "version": "2.7.6"
  }
 },
 "nbformat": 4,
 "nbformat_minor": 0
}
