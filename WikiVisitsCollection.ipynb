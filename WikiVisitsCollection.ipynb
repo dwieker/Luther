{
 "cells": [
  {
   "cell_type": "code",
   "execution_count": 2,
   "metadata": {
    "collapsed": true
   },
   "outputs": [],
   "source": [
    "from bs4 import BeautifulSoup\n",
    "import pickle\n",
    "import time\n",
    "import requests\n",
    "import csv\n",
    "import re\n",
    "from dateutil import parser\n",
    "from datetime import timedelta\n",
    "from datetime import datetime\n",
    "import random\n",
    "import os\n",
    "import pandas as pd\n",
    "import numpy as np"
   ]
  },
  {
   "cell_type": "code",
   "execution_count": 3,
   "metadata": {
    "collapsed": false,
    "scrolled": true
   },
   "outputs": [
    {
     "name": "stderr",
     "output_type": "stream",
     "text": [
      "/Library/Python/2.7/site-packages/requests/packages/urllib3/util/ssl_.py:90: InsecurePlatformWarning: A true SSLContext object is not available. This prevents urllib3 from configuring SSL appropriately and may cause certain SSL connections to fail. For more information, see https://urllib3.readthedocs.org/en/latest/security.html#insecureplatformwarning.\n",
      "  InsecurePlatformWarning\n",
      "/Library/Python/2.7/site-packages/requests/packages/urllib3/util/ssl_.py:90: InsecurePlatformWarning: A true SSLContext object is not available. This prevents urllib3 from configuring SSL appropriately and may cause certain SSL connections to fail. For more information, see https://urllib3.readthedocs.org/en/latest/security.html#insecureplatformwarning.\n",
      "  InsecurePlatformWarning\n",
      "/Library/Python/2.7/site-packages/requests/packages/urllib3/util/ssl_.py:90: InsecurePlatformWarning: A true SSLContext object is not available. This prevents urllib3 from configuring SSL appropriately and may cause certain SSL connections to fail. For more information, see https://urllib3.readthedocs.org/en/latest/security.html#insecureplatformwarning.\n",
      "  InsecurePlatformWarning\n",
      "/Library/Python/2.7/site-packages/requests/packages/urllib3/util/ssl_.py:90: InsecurePlatformWarning: A true SSLContext object is not available. This prevents urllib3 from configuring SSL appropriately and may cause certain SSL connections to fail. For more information, see https://urllib3.readthedocs.org/en/latest/security.html#insecureplatformwarning.\n",
      "  InsecurePlatformWarning\n"
     ]
    }
   ],
   "source": [
    "# Scrape a List of movies released in 2015 using wikipedia (and store the links)\n",
    "movies = {}\n",
    "years = [2013, 2014, 2015, 2016]\n",
    "\n",
    "for year in years:\n",
    "    response = requests.get(\"https://en.wikipedia.org/wiki/%d_in_film\"%year)\n",
    "    soup = BeautifulSoup(response.text, \"lxml\")\n",
    "    tables = soup.find_all(\"table\", class_=\"wikitable\")\n",
    "\n",
    "    for table in tables[2:8]: # The tables I want are 4 - 7\n",
    "        for movie in table.find_all(\"i\"):\n",
    "            movie = movie.find(\"a\")\n",
    "            if movie is not None:\n",
    "                url = movie.get(\"href\").split(\"/\")[-1].encode(\"utf-8\")\n",
    "                text = movie.text.encode(\"utf-8\")\n",
    "                movies[text] = {\"url\":url}\n",
    "\n",
    "with open(\"movies.pkl\", \"w\") as f:\n",
    "    pickle.dump(movies, f)\n"
   ]
  },
  {
   "cell_type": "code",
   "execution_count": 5,
   "metadata": {
    "collapsed": false
   },
   "outputs": [
    {
     "data": {
      "text/plain": [
       "1009"
      ]
     },
     "execution_count": 5,
     "metadata": {},
     "output_type": "execute_result"
    }
   ],
   "source": [
    "len(movies)"
   ]
  },
  {
   "cell_type": "code",
   "execution_count": 6,
   "metadata": {
    "collapsed": false
   },
   "outputs": [
    {
     "name": "stdout",
     "output_type": "stream",
     "text": [
      "Done: 2013\n",
      "Done: 2014\n",
      "Done: 2015\n"
     ]
    },
    {
     "ename": "IndexError",
     "evalue": "list index out of range",
     "output_type": "error",
     "traceback": [
      "\u001b[0;31m---------------------------------------------------------------------------\u001b[0m",
      "\u001b[0;31mIndexError\u001b[0m                                Traceback (most recent call last)",
      "\u001b[0;32m<ipython-input-6-c8f8d91a5dd2>\u001b[0m in \u001b[0;36m<module>\u001b[0;34m()\u001b[0m\n\u001b[1;32m     11\u001b[0m     \u001b[0;32mfor\u001b[0m \u001b[0mpage\u001b[0m \u001b[0;32min\u001b[0m \u001b[0mrange\u001b[0m\u001b[0;34m(\u001b[0m\u001b[0;36m1\u001b[0m\u001b[0;34m,\u001b[0m\u001b[0;36m8\u001b[0m\u001b[0;34m)\u001b[0m\u001b[0;34m:\u001b[0m\u001b[0;34m\u001b[0m\u001b[0m\n\u001b[1;32m     12\u001b[0m         \u001b[0mdf\u001b[0m \u001b[0;34m=\u001b[0m \u001b[0mpd\u001b[0m\u001b[0;34m.\u001b[0m\u001b[0mread_html\u001b[0m\u001b[0;34m(\u001b[0m\u001b[0;34m\"http://www.boxofficemojo.com/yearly/chart/?page=%d&view=releasedate&view2=domestic&yr=%s&p=.htm\"\u001b[0m\u001b[0;34m%\u001b[0m\u001b[0;34m(\u001b[0m\u001b[0mpage\u001b[0m\u001b[0;34m,\u001b[0m\u001b[0myear\u001b[0m\u001b[0;34m)\u001b[0m\u001b[0;34m)\u001b[0m\u001b[0;34m\u001b[0m\u001b[0m\n\u001b[0;32m---> 13\u001b[0;31m         \u001b[0mdf\u001b[0m \u001b[0;34m=\u001b[0m \u001b[0mdf\u001b[0m\u001b[0;34m[\u001b[0m\u001b[0;36m3\u001b[0m\u001b[0;34m]\u001b[0m\u001b[0;34m.\u001b[0m\u001b[0miloc\u001b[0m\u001b[0;34m[\u001b[0m\u001b[0;36m5\u001b[0m\u001b[0;34m:\u001b[0m\u001b[0;34m,\u001b[0m \u001b[0;36m1\u001b[0m\u001b[0;34m:\u001b[0m\u001b[0;36m8\u001b[0m\u001b[0;34m]\u001b[0m\u001b[0;34m\u001b[0m\u001b[0m\n\u001b[0m\u001b[1;32m     14\u001b[0m \u001b[0;34m\u001b[0m\u001b[0m\n\u001b[1;32m     15\u001b[0m         \u001b[0mdf\u001b[0m\u001b[0;34m.\u001b[0m\u001b[0mcolumns\u001b[0m \u001b[0;34m=\u001b[0m \u001b[0;34m[\u001b[0m\u001b[0;34m\"title\"\u001b[0m\u001b[0;34m,\u001b[0m \u001b[0;34m\"studio\"\u001b[0m\u001b[0;34m,\u001b[0m \u001b[0;34m\"gross\"\u001b[0m\u001b[0;34m,\u001b[0m \u001b[0;34m\"total theaters\"\u001b[0m\u001b[0;34m,\u001b[0m \u001b[0;34m\"opening gross\"\u001b[0m\u001b[0;34m,\u001b[0m \u001b[0;34m\"opening theaters\"\u001b[0m\u001b[0;34m,\u001b[0m \u001b[0;34m\"release\"\u001b[0m\u001b[0;34m]\u001b[0m\u001b[0;34m\u001b[0m\u001b[0m\n",
      "\u001b[0;31mIndexError\u001b[0m: list index out of range"
     ]
    }
   ],
   "source": [
    "# Grab finnancial data from box office mojo\n",
    "\n",
    "def add_year(s):\n",
    "    \"\"\"Append the year to a date\"\"\"\n",
    "    try:\n",
    "        return s + \"/%s\"%str(year)[2:]\n",
    "    except:\n",
    "        return None\n",
    "dfs = []\n",
    "for year in years:\n",
    "    for page in range(1,8):\n",
    "        df = pd.read_html(\"http://www.boxofficemojo.com/yearly/chart/?page=%d&view=releasedate&view2=domestic&yr=%s&p=.htm\"%(page,year))\n",
    "        df = df[3].iloc[5:, 1:8]\n",
    "        \n",
    "        df.columns = [\"title\", \"studio\", \"gross\", \"total theaters\", \"opening gross\", \"opening theaters\", \"release\"]\n",
    "        df.release = df.release.apply(add_year)\n",
    "        dfs.append(df)\n",
    "        time.sleep(1)    \n",
    "    \n",
    "    print \"Done:\", year"
   ]
  },
  {
   "cell_type": "code",
   "execution_count": 7,
   "metadata": {
    "collapsed": false
   },
   "outputs": [],
   "source": [
    "df = pd.concat(dfs, ignore_index=True) "
   ]
  },
  {
   "cell_type": "code",
   "execution_count": 8,
   "metadata": {
    "collapsed": false
   },
   "outputs": [
    {
     "name": "stdout",
     "output_type": "stream",
     "text": [
      "<class 'pandas.core.frame.DataFrame'>\n",
      "Int64Index: 2443 entries, 0 to 2442\n",
      "Data columns (total 7 columns):\n",
      "title               2371 non-null object\n",
      "studio              2365 non-null object\n",
      "gross               2371 non-null object\n",
      "total theaters      2325 non-null object\n",
      "opening gross       2156 non-null object\n",
      "opening theaters    2173 non-null object\n",
      "release             2299 non-null object\n",
      "dtypes: object(7)\n",
      "memory usage: 152.7+ KB\n"
     ]
    }
   ],
   "source": [
    "df.info()"
   ]
  },
  {
   "cell_type": "code",
   "execution_count": 9,
   "metadata": {
    "collapsed": false
   },
   "outputs": [],
   "source": [
    "# Convert money values and date and save data\n",
    "def strip_dollar_sign(s):\n",
    "    try:\n",
    "        return int(s.replace(\"$\", \"\").replace(\",\",\"\"))\n",
    "    except (AttributeError, ValueError):\n",
    "        return None\n",
    "    \n",
    "def to_datetime(t):\n",
    "    try:\n",
    "        return datetime.strptime(t, \"%m/%d/%y\")\n",
    "    except:\n",
    "        return None\n",
    "\n",
    "\n",
    "df['opening gross'] = df['opening gross'].apply(strip_dollar_sign)\n",
    "df['gross'] = df.gross.apply(strip_dollar_sign)\n",
    "df.release = df.release.apply(to_datetime)\n",
    "df['opening theaters'] = pd.to_numeric(df['opening theaters'], errors=\"coerce\")\n",
    "df['total theaters'] = pd.to_numeric(df['total theaters'], errors=\"coerce\")\n",
    "\n",
    "df.to_csv(\"finnancial.csv\", encoding='utf-8', )\n"
   ]
  },
  {
   "cell_type": "code",
   "execution_count": 10,
   "metadata": {
    "collapsed": false
   },
   "outputs": [
    {
     "data": {
      "text/html": [
       "<div>\n",
       "<table border=\"1\" class=\"dataframe\">\n",
       "  <thead>\n",
       "    <tr style=\"text-align: right;\">\n",
       "      <th></th>\n",
       "      <th>title</th>\n",
       "      <th>studio</th>\n",
       "      <th>gross</th>\n",
       "      <th>total theaters</th>\n",
       "      <th>opening gross</th>\n",
       "      <th>opening theaters</th>\n",
       "      <th>release</th>\n",
       "    </tr>\n",
       "  </thead>\n",
       "  <tbody>\n",
       "    <tr>\n",
       "      <th>1553</th>\n",
       "      <td>Chappie</td>\n",
       "      <td>Sony</td>\n",
       "      <td>31569268</td>\n",
       "      <td>3201</td>\n",
       "      <td>13346782</td>\n",
       "      <td>3201</td>\n",
       "      <td>2015-03-06</td>\n",
       "    </tr>\n",
       "    <tr>\n",
       "      <th>1884</th>\n",
       "      <td>Beasts of No Nation</td>\n",
       "      <td>BST</td>\n",
       "      <td>90777</td>\n",
       "      <td>31</td>\n",
       "      <td>51003</td>\n",
       "      <td>31</td>\n",
       "      <td>2015-10-16</td>\n",
       "    </tr>\n",
       "    <tr>\n",
       "      <th>1609</th>\n",
       "      <td>Dragon Ball Z: Resurrection 'F'</td>\n",
       "      <td>FUN</td>\n",
       "      <td>8008363</td>\n",
       "      <td>913</td>\n",
       "      <td>1817937</td>\n",
       "      <td>183</td>\n",
       "      <td>2015-08-04</td>\n",
       "    </tr>\n",
       "    <tr>\n",
       "      <th>2322</th>\n",
       "      <td>Vaxxed: From Cover-Up to Catastrophe</td>\n",
       "      <td>Libre</td>\n",
       "      <td>118982</td>\n",
       "      <td>7</td>\n",
       "      <td>28339</td>\n",
       "      <td>1</td>\n",
       "      <td>2016-04-01</td>\n",
       "    </tr>\n",
       "    <tr>\n",
       "      <th>1989</th>\n",
       "      <td>Rediscover Sautet</td>\n",
       "      <td>Rialto</td>\n",
       "      <td>25314</td>\n",
       "      <td>1</td>\n",
       "      <td>NaN</td>\n",
       "      <td>NaN</td>\n",
       "      <td>2015-06-12</td>\n",
       "    </tr>\n",
       "    <tr>\n",
       "      <th>2256</th>\n",
       "      <td>Where to Invade Next</td>\n",
       "      <td>Drft.</td>\n",
       "      <td>3820195</td>\n",
       "      <td>308</td>\n",
       "      <td>897034</td>\n",
       "      <td>308</td>\n",
       "      <td>2016-02-12</td>\n",
       "    </tr>\n",
       "    <tr>\n",
       "      <th>1366</th>\n",
       "      <td>Empty Hours</td>\n",
       "      <td>Strand</td>\n",
       "      <td>8244</td>\n",
       "      <td>3</td>\n",
       "      <td>1366</td>\n",
       "      <td>1</td>\n",
       "      <td>2014-07-11</td>\n",
       "    </tr>\n",
       "    <tr>\n",
       "      <th>2306</th>\n",
       "      <td>Born to be Blue</td>\n",
       "      <td>EOne</td>\n",
       "      <td>151926</td>\n",
       "      <td>23</td>\n",
       "      <td>14069</td>\n",
       "      <td>23</td>\n",
       "      <td>2016-03-04</td>\n",
       "    </tr>\n",
       "    <tr>\n",
       "      <th>1872</th>\n",
       "      <td>Every Secret Thing</td>\n",
       "      <td>SM</td>\n",
       "      <td>103536</td>\n",
       "      <td>20</td>\n",
       "      <td>97020</td>\n",
       "      <td>20</td>\n",
       "      <td>2015-05-15</td>\n",
       "    </tr>\n",
       "    <tr>\n",
       "      <th>1557</th>\n",
       "      <td>Sinister 2</td>\n",
       "      <td>Focus</td>\n",
       "      <td>27740955</td>\n",
       "      <td>2799</td>\n",
       "      <td>10542116</td>\n",
       "      <td>2766</td>\n",
       "      <td>2015-08-21</td>\n",
       "    </tr>\n",
       "  </tbody>\n",
       "</table>\n",
       "</div>"
      ],
      "text/plain": [
       "                                     title  studio     gross  total theaters  \\\n",
       "1553                               Chappie    Sony  31569268            3201   \n",
       "1884                   Beasts of No Nation     BST     90777              31   \n",
       "1609       Dragon Ball Z: Resurrection 'F'     FUN   8008363             913   \n",
       "2322  Vaxxed: From Cover-Up to Catastrophe   Libre    118982               7   \n",
       "1989                     Rediscover Sautet  Rialto     25314               1   \n",
       "2256                  Where to Invade Next   Drft.   3820195             308   \n",
       "1366                           Empty Hours  Strand      8244               3   \n",
       "2306                       Born to be Blue    EOne    151926              23   \n",
       "1872                    Every Secret Thing      SM    103536              20   \n",
       "1557                            Sinister 2   Focus  27740955            2799   \n",
       "\n",
       "      opening gross  opening theaters    release  \n",
       "1553       13346782              3201 2015-03-06  \n",
       "1884          51003                31 2015-10-16  \n",
       "1609        1817937               183 2015-08-04  \n",
       "2322          28339                 1 2016-04-01  \n",
       "1989            NaN               NaN 2015-06-12  \n",
       "2256         897034               308 2016-02-12  \n",
       "1366           1366                 1 2014-07-11  \n",
       "2306          14069                23 2016-03-04  \n",
       "1872          97020                20 2015-05-15  \n",
       "1557       10542116              2766 2015-08-21  "
      ]
     },
     "execution_count": 10,
     "metadata": {},
     "output_type": "execute_result"
    }
   ],
   "source": [
    "df.sample(10)"
   ]
  },
  {
   "cell_type": "code",
   "execution_count": 16,
   "metadata": {
    "collapsed": false
   },
   "outputs": [
    {
     "name": "stdout",
     "output_type": "stream",
     "text": [
      "The Hunger Games: Catching Fire\n",
      "Iron Man 3\n",
      "Frozen\n",
      "Despicable Me 2\n",
      "Man of Steel\n",
      "Gravity\n",
      "Monsters University\n",
      "The Hobbit: The Desolation of Smaug\n",
      "Fast & Furious 6\n",
      "Star Trek Into Darkness\n",
      "Thor: The Dark World\n",
      "World War Z\n",
      "The Croods\n",
      "The Heat\n",
      "We're the Millers\n",
      "American Hustle\n",
      "The Conjuring\n",
      "Identity Thief\n",
      "Grown Ups 2\n",
      "The Wolverine\n",
      "Anchorman 2: The Legend Continues\n",
      "Lone Survivor\n",
      "G.I. Joe: Retaliation\n",
      "Cloudy with a Chance of Meatballs 2\n",
      "Now You See Me\n",
      "The Wolf of Wall Street\n",
      "The Hangover Part III\n",
      "Epic\n",
      "Captain Phillips\n",
      "Jackass Presents: Bad Grandpa\n",
      "Pacific Rim\n",
      "Olympus Has Fallen\n",
      "42\n",
      "Elysium\n",
      "Planes\n",
      "The Lone Ranger\n",
      "Oblivion\n",
      "Saving Mr. Banks\n",
      "Turbo\n",
      "2 Guns\n",
      "White House Down\n",
      "Mama\n",
      "Safe Haven\n",
      "The Smurfs 2\n",
      "The Best Man Holiday\n",
      "Percy Jackson: Sea of Monsters\n",
      "A Good Day to Die Hard\n",
      "Warm Bodies\n",
      "Jack the Giant Slayer\n",
      "The Purge\n",
      "Last Vegas\n",
      "Ender's Game\n",
      "Prisoners\n",
      "After Earth\n",
      "The Secret Life of Walter Mitty\n",
      "12 Years a Slave\n",
      "Free Birds\n",
      "Hansel and Gretel: Witch Hunters\n",
      "The Call\n",
      "Gangster Squad\n",
      "Jurassic Park 3D\n",
      "The Internship\n",
      "Snitch\n",
      "Riddick\n",
      "A Haunted House\n",
      "47 Ronin\n",
      "August: Osage County\n",
      "Walking with Dinosaurs\n",
      "Texas Chainsaw 3D\n",
      "R.I.P.D.\n",
      "Blue Jasmine\n",
      "Scary Movie 5\n",
      "The Mortal Instruments: City of Bones\n",
      "Delivery Man\n",
      "Grudge Match\n",
      "Kick-Ass 2\n",
      "Dallas Buyers Club\n",
      "The World's End\n",
      "Escape Plan\n",
      "Don Jon\n",
      "The Incredible Burt Wonderstone\n",
      "The Big Wedding\n",
      "Mud\n",
      "Baggage Claim\n",
      "The Way, Way Back\n",
      "The Book Thief\n",
      "The Place Beyond the Pines\n",
      "Homefront\n",
      "Broken City\n",
      "You're Next\n",
      "Admission\n",
      "Nebraska\n",
      "Parker\n",
      "Enough Said\n",
      "Dark Skies\n",
      "The Counselor\n",
      "Jobs\n",
      "Fruitvale Station\n",
      "The Last Exorcism Part II\n",
      "Spring Breakers\n",
      "Inside Llewyn Davis\n",
      "The Last Stand\n",
      "Out of the Furnace\n",
      "Dead Man Down\n",
      "Bullet to the Head\n",
      "Tyler Perry Presents Peeples\n",
      "Battle of the Year\n",
      "Movie 43\n",
      "Mandela: Long Walk to Freedom\n",
      "Before Midnight\n",
      "Machete Kills\n",
      "Paranoia\n",
      "Black Nativity\n",
      "The Spectacular Now\n",
      "The Grandmaster\n",
      "The Bling Ring\n",
      "Closed Circuit\n",
      "Chennai Express\n",
      "Frances Ha\n",
      "Yeh Jawaani Hai Deewani\n",
      "Emperor\n",
      "Stand Up Guys\n",
      "The Fifth Estate\n",
      "Top Gun 3D\n",
      "Home Run\n",
      "Grace Unplugged\n",
      "Trance\n",
      "The East\n",
      "Stoker\n",
      "Bhaag Milkha Bhaag\n",
      "Race 2\n",
      "Disconnect\n",
      "Girl Most Likely\n",
      "I'm So Excited\n",
      "The Kings of Summer\n",
      "The Lords of Salem\n",
      "What Maisie Knew\n",
      "Short Term 12\n",
      "Only God Forgives\n",
      "Lootera\n",
      "The Reluctant Fundamentalist\n",
      "Upstream Color\n",
      "Sound City\n",
      "Ain't Them Bodies Saints\n",
      "At Any Price\n",
      "Shootout at Wadala\n",
      "Drinking Buddies\n",
      "Go Goa Gone\n",
      "Himmatwala\n",
      "The Attacks of 26/11\n",
      "Arthur Newman\n",
      "Copperhead\n",
      "LUV\n",
      "John Dies at the End\n",
      "Europa Report\n",
      "Fukrey\n",
      "The English Teacher\n",
      "Byzantium\n",
      "Settai\n",
      "Stuck in Love\n",
      "Winnie Mandela\n",
      "No One Lives\n",
      "It's a Disaster\n",
      "Aftershock\n",
      "The Canyons\n",
      "Table No. 21\n",
      "A Glimpse Inside the Mind of Charles Swan III\n",
      "Concussion\n",
      "Killing Season\n",
      "Touchy Feely\n",
      "I Give It a Year\n",
      "Tiger Eyes\n",
      "Bastards\n",
      "V/H/S/2\n",
      "The Look of Love\n",
      "Violet & Daisy\n",
      "Kiss of the Damned\n",
      "So Young\n",
      "Greetings from Tim Buckley\n",
      "Welcome to the Punch\n",
      "Hell Baby\n",
      "Hello Herman\n",
      "The Brass Teapot\n",
      "100 Bloody Acres\n",
      "A Dark Truth\n",
      "Knife Fight\n",
      "Scenic Route\n",
      "Officer Down\n",
      "Java Heat\n",
      "Hammer of the Gods\n",
      "Dragon Ball Z: Battle of Gods\n",
      "The Huntsman: Winter's War\n",
      "Elvis & Nixon\n"
     ]
    }
   ],
   "source": [
    "from collections import defaultdict\n",
    "import json\n",
    "import urllib\n",
    "\n",
    "wiki_movies = pickle.load(open(\"movies.pkl\"))\n",
    "wikiviews = pickle.load(open(\"wikiviews-Copy1.pkl\"))\n",
    "\n",
    "# Match box office names to wiki article names and use the stored links to find wiki traffic data\n",
    "for movie_title, series in df.set_index('title').loc[[title for title in df.title if title in wiki_movies]].iterrows():\n",
    "    article_name = wiki_movies[movie_title]['url']\n",
    "    \n",
    "    if movie_title not in wikiviews:\n",
    "        release_date = series.release.date()\n",
    "        temp_dict = defaultdict(dict)\n",
    "        for date in [release_date, release_date - timedelta(weeks=4)]:\n",
    "            date = str(date.year)+\"%02d\" % date.month\n",
    "            response = requests.get('http://stats.grok.se/json/en/%s/%s'%(date, urllib.quote(article_name)))\n",
    "            if response.ok:\n",
    "                response = response.json()\n",
    "                temp_dict['daily_views'].update(response['daily_views'])\n",
    "            else:\n",
    "                print \"Warning! Failed:\", movie_title, date\n",
    "                continue\n",
    "                \n",
    "        temp_dict['title'] = response['title']\n",
    "        wikiviews[movie_title] = temp_dict\n",
    "\n",
    "        with open(\"log.txt\", \"a\") as log:\n",
    "            json.dump(response, log)\n",
    "        \n",
    "        print movie_title\n",
    "        \n",
    "        time.sleep(.5)\n",
    "\n"
   ]
  },
  {
   "cell_type": "code",
   "execution_count": 18,
   "metadata": {
    "collapsed": false
   },
   "outputs": [],
   "source": [
    "pickle.dump(wikiviews, open(\"wikiviews.pkl\", \"w\"))"
   ]
  },
  {
   "cell_type": "code",
   "execution_count": 17,
   "metadata": {
    "collapsed": false
   },
   "outputs": [
    {
     "data": {
      "text/plain": [
       "595"
      ]
     },
     "execution_count": 17,
     "metadata": {},
     "output_type": "execute_result"
    }
   ],
   "source": [
    "len(wikiviews)"
   ]
  },
  {
   "cell_type": "code",
   "execution_count": null,
   "metadata": {
    "collapsed": true
   },
   "outputs": [],
   "source": []
  }
 ],
 "metadata": {
  "kernelspec": {
   "display_name": "Python 2",
   "language": "python",
   "name": "python2"
  },
  "language_info": {
   "codemirror_mode": {
    "name": "ipython",
    "version": 2
   },
   "file_extension": ".py",
   "mimetype": "text/x-python",
   "name": "python",
   "nbconvert_exporter": "python",
   "pygments_lexer": "ipython2",
   "version": "2.7.6"
  }
 },
 "nbformat": 4,
 "nbformat_minor": 0
}
